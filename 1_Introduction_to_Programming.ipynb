{
  "nbformat": 4,
  "nbformat_minor": 0,
  "metadata": {
    "colab": {
      "provenance": [],
      "authorship_tag": "ABX9TyPo+tshHQBNEHb8a42YflvV",
      "include_colab_link": true
    },
    "kernelspec": {
      "name": "python3",
      "display_name": "Python 3"
    },
    "language_info": {
      "name": "python"
    }
  },
  "cells": [
    {
      "cell_type": "markdown",
      "metadata": {
        "id": "view-in-github",
        "colab_type": "text"
      },
      "source": [
        "<a href=\"https://colab.research.google.com/github/irfanisb/Python/blob/master/1_Introduction_to_Programming.ipynb\" target=\"_parent\"><img src=\"https://colab.research.google.com/assets/colab-badge.svg\" alt=\"Open In Colab\"/></a>"
      ]
    },
    {
      "cell_type": "markdown",
      "source": [
        "# Chapter 1: Introduction to Programming\n",
        "\n",
        "Welcome to the first chapter of our Python programming course for kids! In this chapter, we'll learn what programming is, see some real-life examples, and write our first Python program using Google Colab.\n",
        "\n",
        "---\n",
        "\n",
        "## What is Programming?\n",
        "\n",
        "Programming is like giving instructions to a computer to make it do what you want. Imagine you're giving instructions to a robot to help you clean your room. You might tell it to pick up a toy, put it in the toy box, and then move on to the next toy. When you program, you're writing instructions for the computer to follow.\n",
        "\n",
        "Just like how you use a list of instructions for the robot, we use something called code to give instructions to the computer. There are many programming languages we can use to write code, and Python is one of them.\n",
        "\n",
        "---\n",
        "\n",
        "## Real-life Examples of Programming\n",
        "\n",
        "Programming is everywhere! Here are a few examples:\n",
        "\n",
        "1. **Games**: When you play a video game, programming is used to create the characters, control their movements, and make the game fun to play.\n",
        "2. **Apps**: When you use apps on your phone or tablet, programming is behind how those apps work and respond to your touches and swipes.\n",
        "3. **Websites**: Websites like YouTube or Google are made using programming to display content, play videos, and let you search for information.\n",
        "\n",
        "---\n",
        "\n",
        "## Why Python?\n",
        "\n",
        "Python is a great language for beginners because it's easy to read and write. It's like writing in plain English. Plus, Python is used in many cool areas like web development, data analysis, artificial intelligence, and more!\n",
        "\n",
        "Look at this example. Here's a simple program in Python that prints \"Hello, World!\" to the screen:\n"
      ],
      "metadata": {
        "id": "jktIvS3Ed_ve"
      }
    },
    {
      "cell_type": "code",
      "source": [
        "print(\"Hello, World!\")"
      ],
      "metadata": {
        "id": "T1bPMGqgepWW"
      },
      "execution_count": null,
      "outputs": []
    },
    {
      "cell_type": "markdown",
      "source": [
        "\n",
        "And here's the same program in another language called C++:\n",
        "\n",
        "```cpp\n",
        "#include <iostream>\n",
        "using namespace std;\n",
        "\n",
        "int main() {\n",
        "    cout << \"Hello, World!\";\n",
        "    return 0;\n",
        "}\n",
        "```\n",
        "\n",
        "See how Python is much simpler and easier to understand?\n",
        "\n",
        "---\n",
        "\n",
        "## Installing Python and Using Google Colab\n",
        "\n",
        "One of the easiest ways to start coding in Python is by using Google Colab. Google Colab is a free, web-based tool that lets you write and run Python code right in your browser. No installation needed!\n",
        "\n",
        "**Step-by-Step Instructions**:\n",
        "1. Open your web browser and go to [Google Colab](https://colab.research.google.com/).\n",
        "2. Sign in with your Google account.\n",
        "3. Click on \"File\" > \"New notebook\" to create a new notebook.\n",
        "4. You'll see a new page with a code cell where you can start typing your Python code.\n",
        "\n",
        "---\n",
        "\n",
        "## Writing Your First Program\n",
        "\n",
        "In the code cell below, type the following code:"
      ],
      "metadata": {
        "id": "Qhi83h-Yezit"
      }
    },
    {
      "cell_type": "code",
      "source": [
        "# Your first Python program\n",
        "print(\"Hello, World!\")"
      ],
      "metadata": {
        "colab": {
          "base_uri": "https://localhost:8080/"
        },
        "id": "ghjVDxrAfiXK",
        "outputId": "b3a4006c-1a76-4e26-9e5a-c0589b51dd4d"
      },
      "execution_count": 1,
      "outputs": [
        {
          "output_type": "stream",
          "name": "stdout",
          "text": [
            "Hello, World!\n"
          ]
        }
      ]
    },
    {
      "cell_type": "markdown",
      "source": [
        "\n",
        "Congratulations! You've just written and run your first Python program. How cool is that?\n",
        "\n",
        "---\n",
        "\n",
        "## Summary\n",
        "\n",
        "In this chapter, we learned what programming is, saw some real-life examples, discovered why Python is a great language to learn, and wrote our very first Python program using Google Colab. In the next chapter, we'll dive deeper into Python and start learning about the basic syntax and how to write more complex programs.\n",
        "\n",
        "---\n",
        "\n",
        "**Keep Coding!**\n",
        "\n",
        "---\n",
        "\n",
        "This notebook provides a structured and interactive way for kids to learn the basics of programming and Python. The explanations are in markdown cells, and the code is in code cells, making it easy for kids to follow along and try the code themselves."
      ],
      "metadata": {
        "id": "E1yQ1ChXfsGU"
      }
    }
  ]
}